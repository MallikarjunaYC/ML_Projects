{
 "cells": [
  {
   "cell_type": "code",
   "execution_count": 2,
   "id": "742e86f3-4f0b-417c-b3ba-d45db34f2b3d",
   "metadata": {},
   "outputs": [
    {
     "name": "stderr",
     "output_type": "stream",
     "text": [
      "2023-09-23 13:15:20.461479: I tensorflow/tsl/cuda/cudart_stub.cc:28] Could not find cuda drivers on your machine, GPU will not be used.\n",
      "2023-09-23 13:15:21.167718: I tensorflow/tsl/cuda/cudart_stub.cc:28] Could not find cuda drivers on your machine, GPU will not be used.\n",
      "2023-09-23 13:15:21.172060: I tensorflow/core/platform/cpu_feature_guard.cc:182] This TensorFlow binary is optimized to use available CPU instructions in performance-critical operations.\n",
      "To enable the following instructions: AVX2 FMA, in other operations, rebuild TensorFlow with the appropriate compiler flags.\n",
      "2023-09-23 13:15:23.601002: W tensorflow/compiler/tf2tensorrt/utils/py_utils.cc:38] TF-TRT Warning: Could not find TensorRT\n"
     ]
    }
   ],
   "source": [
    "import tensorflow as tf\n",
    "from tensorflow import keras\n",
    "import pandas as pd\n",
    "import numpy as np\n",
    "import matplotlib.pyplot as plt"
   ]
  },
  {
   "cell_type": "code",
   "execution_count": 3,
   "id": "fd316c87-1c3b-4093-aa7c-ca5474989963",
   "metadata": {},
   "outputs": [],
   "source": [
    "# directly reading the dataset from Keras\n",
    "(X_train, y_train), (X_test, y_test) = keras.datasets.cifar10.load_data()"
   ]
  },
  {
   "cell_type": "code",
   "execution_count": 4,
   "id": "1c062939-c943-4bce-b5fe-6574da6aa9df",
   "metadata": {},
   "outputs": [
    {
     "data": {
      "text/plain": [
       "(50000, 32, 32, 3)"
      ]
     },
     "execution_count": 4,
     "metadata": {},
     "output_type": "execute_result"
    }
   ],
   "source": [
    "X_train.shape"
   ]
  },
  {
   "cell_type": "code",
   "execution_count": 5,
   "id": "b8bf1b3d-4dff-4d02-bac6-406ff7e53d82",
   "metadata": {},
   "outputs": [],
   "source": [
    "X_train_scaled = X_train / 255\n",
    "X_test_scaled = X_test / 255"
   ]
  },
  {
   "cell_type": "code",
   "execution_count": 6,
   "id": "5772d77f-6764-4dad-9b5b-a2d4b8b06c17",
   "metadata": {},
   "outputs": [
    {
     "data": {
      "text/plain": [
       "<matplotlib.image.AxesImage at 0x7f62c7cef1f0>"
      ]
     },
     "execution_count": 6,
     "metadata": {},
     "output_type": "execute_result"
    },
    {
     "data": {
      "image/png": "[encoded data removed]",
      "text/plain": [
       "<Figure size 100x200 with 1 Axes>"
      ]
     },
     "metadata": {},
     "output_type": "display_data"
    }
   ],
   "source": [
    "plt.figure(figsize=(1,2))\n",
    "plt.imshow(X_train[1])"
   ]
  },
  {
   "cell_type": "code",
   "execution_count": 7,
   "id": "bbe41929-fa72-46ed-871c-f2307a64e8fd",
   "metadata": {},
   "outputs": [],
   "source": [
    "classes = ['airpplane', 'automobile', 'bird', 'cat', 'deer', 'dog', 'frog', 'horse', 'ship', 'truck']"
   ]
  },
  {
   "cell_type": "code",
   "execution_count": 8,
   "id": "de6ae48d-4ce1-47f1-a31e-5bc8327443aa",
   "metadata": {},
   "outputs": [
    {
     "data": {
      "text/plain": [
       "array([9], dtype=uint8)"
      ]
     },
     "execution_count": 8,
     "metadata": {},
     "output_type": "execute_result"
    }
   ],
   "source": [
    "y_train[1]"
   ]
  },
  {
   "cell_type": "code",
   "execution_count": 9,
   "id": "7d57979c-904f-458c-9e2a-754907d88cb2",
   "metadata": {},
   "outputs": [
    {
     "data": {
      "text/plain": [
       "'truck'"
      ]
     },
     "execution_count": 9,
     "metadata": {},
     "output_type": "execute_result"
    }
   ],
   "source": [
    "# y_train is an array, so we need to pass the first element of the array\n",
    "classes[y_train[1][0]]"
   ]
  },
  {
   "cell_type": "code",
   "execution_count": 10,
   "id": "171df6b1-a158-4d3f-b6a9-9eb5393076ae",
   "metadata": {},
   "outputs": [],
   "source": [
    "X_train_scaled = X_train / 255"
   ]
  },
  {
   "cell_type": "code",
   "execution_count": 11,
   "id": "23fbee04-82ec-499a-ace4-c1e0a3fc69d9",
   "metadata": {},
   "outputs": [
    {
     "data": {
      "text/plain": [
       "array([[0., 0., 0., ..., 0., 0., 0.],\n",
       "       [0., 0., 0., ..., 0., 0., 1.],\n",
       "       [0., 0., 0., ..., 0., 0., 1.],\n",
       "       ...,\n",
       "       [0., 0., 0., ..., 0., 0., 1.],\n",
       "       [0., 1., 0., ..., 0., 0., 0.],\n",
       "       [0., 1., 0., ..., 0., 0., 0.]], dtype=float32)"
      ]
     },
     "execution_count": 11,
     "metadata": {},
     "output_type": "execute_result"
    }
   ],
   "source": [
    "# lets do one hot encoding\n",
    "# num_classes = 10 as there are ten output classes\n",
    "y_train_categorical = keras.utils.to_categorical(\n",
    "    y_train, num_classes = 10, dtype = 'float32'    \n",
    ")\n",
    "y_train_categorical\n"
   ]
  },
  {
   "cell_type": "code",
   "execution_count": 12,
   "id": "8c56cfff-bb4b-464c-a3f3-cce3be756652",
   "metadata": {},
   "outputs": [
    {
     "data": {
      "text/plain": [
       "array([[0., 0., 0., ..., 0., 0., 0.],\n",
       "       [0., 0., 0., ..., 0., 1., 0.],\n",
       "       [0., 0., 0., ..., 0., 1., 0.],\n",
       "       ...,\n",
       "       [0., 0., 0., ..., 0., 0., 0.],\n",
       "       [0., 1., 0., ..., 0., 0., 0.],\n",
       "       [0., 0., 0., ..., 1., 0., 0.]], dtype=float32)"
      ]
     },
     "execution_count": 12,
     "metadata": {},
     "output_type": "execute_result"
    }
   ],
   "source": [
    "y_test_categorical = keras.utils.to_categorical(\n",
    "    y_test, num_classes = 10, dtype = 'float32'\n",
    ")\n",
    "y_test_categorical"
   ]
  },
  {
   "cell_type": "code",
   "execution_count": 13,
   "id": "6c126e3b-ec23-4b58-96c8-0f510465e8a5",
   "metadata": {},
   "outputs": [],
   "source": [
    "model = keras.Sequential([\n",
    "    keras.layers.Flatten(input_shape=(32,32,3)), # flatten the input from two dinsion (32,32,3) into one dimension (3072)\n",
    "    keras.layers.Dense(3000, activation = 'relu'), #introduce a hidden layer and in hidden layer activation function 'relu' is preferred\n",
    "                                                    # let the number 3000 be less than the dimensions 3072 \n",
    "    keras.layers.Dense(1000, activation = 'relu'), # one more hidden layer increases the classification better\n",
    "    keras.layers.Dense(10, activation = 'sigmoid') # output layer with 10 outputs and in this layer, \n",
    "                                                   # activation function 'sigmoid' is used though others can be used\n",
    "])\n",
    "\n",
    "model.compile(optimizer = 'SGD', #SGD - Stocastic Gradient\n",
    "              loss = 'categorical_crossentropy', # since the data is one hot encoded, we are using this loss, \n",
    "              #if it is discreet we will use 'sparse_categorical_crossentropy\n",
    "              metrics = ['accuracy']  \n",
    ")"
   ]
  },
  {
   "cell_type": "code",
   "execution_count": 14,
   "id": "529d4f46-8f19-430c-9962-861e45314857",
   "metadata": {},
   "outputs": [
    {
     "name": "stdout",
     "output_type": "stream",
     "text": [
      "Epoch 1/50\n",
      "1563/1563 [==============================] - 90s 57ms/step - loss: 1.8164 - accuracy: 0.3525\n",
      "Epoch 2/50\n",
      "1563/1563 [==============================] - 89s 57ms/step - loss: 1.6256 - accuracy: 0.4279\n",
      "Epoch 3/50\n",
      "1563/1563 [==============================] - 89s 57ms/step - loss: 1.5439 - accuracy: 0.4570\n",
      "Epoch 4/50\n",
      "1563/1563 [==============================] - 89s 57ms/step - loss: 1.4829 - accuracy: 0.4782\n",
      "Epoch 5/50\n",
      "1563/1563 [==============================] - 89s 57ms/step - loss: 1.4342 - accuracy: 0.4947\n",
      "Epoch 6/50\n",
      "1563/1563 [==============================] - 90s 57ms/step - loss: 1.3904 - accuracy: 0.5117\n",
      "Epoch 7/50\n",
      "1563/1563 [==============================] - 89s 57ms/step - loss: 1.3529 - accuracy: 0.5248\n",
      "Epoch 8/50\n",
      "1563/1563 [==============================] - 90s 58ms/step - loss: 1.3182 - accuracy: 0.5369\n",
      "Epoch 9/50\n",
      "1563/1563 [==============================] - 90s 57ms/step - loss: 1.2849 - accuracy: 0.5475\n",
      "Epoch 10/50\n",
      "1563/1563 [==============================] - 90s 58ms/step - loss: 1.2545 - accuracy: 0.5604\n",
      "Epoch 11/50\n",
      "1563/1563 [==============================] - 90s 57ms/step - loss: 1.2233 - accuracy: 0.5723\n",
      "Epoch 12/50\n",
      "1563/1563 [==============================] - 90s 57ms/step - loss: 1.1967 - accuracy: 0.5816\n",
      "Epoch 13/50\n",
      "1563/1563 [==============================] - 90s 58ms/step - loss: 1.1686 - accuracy: 0.5926\n",
      "Epoch 14/50\n",
      "1563/1563 [==============================] - 89s 57ms/step - loss: 1.1425 - accuracy: 0.6008\n",
      "Epoch 15/50\n",
      "1563/1563 [==============================] - 83s 53ms/step - loss: 1.1141 - accuracy: 0.6133\n",
      "Epoch 16/50\n",
      "1563/1563 [==============================] - 78s 50ms/step - loss: 1.0888 - accuracy: 0.6208\n",
      "Epoch 17/50\n",
      "1563/1563 [==============================] - 85s 54ms/step - loss: 1.0617 - accuracy: 0.6296\n",
      "Epoch 18/50\n",
      "1563/1563 [==============================] - 90s 58ms/step - loss: 1.0367 - accuracy: 0.6382\n",
      "Epoch 19/50\n",
      "1563/1563 [==============================] - 90s 58ms/step - loss: 1.0114 - accuracy: 0.6477\n",
      "Epoch 20/50\n",
      "1563/1563 [==============================] - 90s 58ms/step - loss: 0.9833 - accuracy: 0.6577\n",
      "Epoch 21/50\n",
      "1563/1563 [==============================] - 90s 57ms/step - loss: 0.9613 - accuracy: 0.6662\n",
      "Epoch 22/50\n",
      "1563/1563 [==============================] - 90s 57ms/step - loss: 0.9339 - accuracy: 0.6761\n",
      "Epoch 23/50\n",
      "1563/1563 [==============================] - 90s 58ms/step - loss: 0.9079 - accuracy: 0.6865\n",
      "Epoch 24/50\n",
      "1563/1563 [==============================] - 81s 52ms/step - loss: 0.8831 - accuracy: 0.6964\n",
      "Epoch 25/50\n",
      "1563/1563 [==============================] - 82s 52ms/step - loss: 0.8573 - accuracy: 0.7041\n",
      "Epoch 26/50\n",
      "1563/1563 [==============================] - 90s 58ms/step - loss: 0.8341 - accuracy: 0.7120\n",
      "Epoch 27/50\n",
      "1563/1563 [==============================] - 90s 58ms/step - loss: 0.8064 - accuracy: 0.7219\n",
      "Epoch 28/50\n",
      "1563/1563 [==============================] - 91s 58ms/step - loss: 0.7796 - accuracy: 0.7333\n",
      "Epoch 29/50\n",
      "1563/1563 [==============================] - 91s 58ms/step - loss: 0.7560 - accuracy: 0.7414\n",
      "Epoch 30/50\n",
      "1563/1563 [==============================] - 91s 58ms/step - loss: 0.7332 - accuracy: 0.7516\n",
      "Epoch 31/50\n",
      "1563/1563 [==============================] - 90s 58ms/step - loss: 0.7045 - accuracy: 0.7622\n",
      "Epoch 32/50\n",
      "1563/1563 [==============================] - 90s 58ms/step - loss: 0.6839 - accuracy: 0.7669\n",
      "Epoch 33/50\n",
      "1563/1563 [==============================] - 91s 58ms/step - loss: 0.6546 - accuracy: 0.7788\n",
      "Epoch 34/50\n",
      "1563/1563 [==============================] - 90s 58ms/step - loss: 0.6325 - accuracy: 0.7875\n",
      "Epoch 35/50\n",
      "1563/1563 [==============================] - 90s 58ms/step - loss: 0.6100 - accuracy: 0.7959\n",
      "Epoch 36/50\n",
      "1563/1563 [==============================] - 89s 57ms/step - loss: 0.5840 - accuracy: 0.8047\n",
      "Epoch 37/50\n",
      "1563/1563 [==============================] - 79s 50ms/step - loss: 0.5596 - accuracy: 0.8138\n",
      "Epoch 38/50\n",
      "1563/1563 [==============================] - 84s 54ms/step - loss: 0.5361 - accuracy: 0.8256\n",
      "Epoch 39/50\n",
      "1563/1563 [==============================] - 90s 58ms/step - loss: 0.5139 - accuracy: 0.8298\n",
      "Epoch 40/50\n",
      "1563/1563 [==============================] - 90s 58ms/step - loss: 0.4904 - accuracy: 0.8389\n",
      "Epoch 41/50\n",
      "1563/1563 [==============================] - 90s 58ms/step - loss: 0.4663 - accuracy: 0.8496\n",
      "Epoch 42/50\n",
      "1563/1563 [==============================] - 90s 58ms/step - loss: 0.4449 - accuracy: 0.8585\n",
      "Epoch 43/50\n",
      "1563/1563 [==============================] - 90s 58ms/step - loss: 0.4270 - accuracy: 0.8652\n",
      "Epoch 44/50\n",
      "1563/1563 [==============================] - 90s 58ms/step - loss: 0.4062 - accuracy: 0.8705\n",
      "Epoch 45/50\n",
      "1563/1563 [==============================] - 90s 58ms/step - loss: 0.3840 - accuracy: 0.8800\n",
      "Epoch 46/50\n",
      "1563/1563 [==============================] - 90s 58ms/step - loss: 0.3658 - accuracy: 0.8854\n",
      "Epoch 47/50\n",
      "1563/1563 [==============================] - 90s 58ms/step - loss: 0.3490 - accuracy: 0.8913\n",
      "Epoch 48/50\n",
      "1563/1563 [==============================] - 90s 58ms/step - loss: 0.3255 - accuracy: 0.8992\n",
      "Epoch 49/50\n",
      "1563/1563 [==============================] - 90s 58ms/step - loss: 0.3095 - accuracy: 0.9057\n",
      "Epoch 50/50\n",
      "1563/1563 [==============================] - 91s 58ms/step - loss: 0.2913 - accuracy: 0.9125\n"
     ]
    },
    {
     "data": {
      "text/plain": [
       "<keras.src.callbacks.History at 0x7f631c3bdcd0>"
      ]
     },
     "execution_count": 14,
     "metadata": {},
     "output_type": "execute_result"
    }
   ],
   "source": [
    "model.fit(X_train_scaled, y_train_categorical, epochs = 50)"
   ]
  },
  {
   "cell_type": "code",
   "execution_count": 20,
   "id": "9f613765-b7d8-417b-b8f3-e24407c74e36",
   "metadata": {},
   "outputs": [
    {
     "name": "stdout",
     "output_type": "stream",
     "text": [
      "313/313 [==============================] - 3s 10ms/step\n"
     ]
    },
    {
     "data": {
      "text/plain": [
       "'cat'"
      ]
     },
     "execution_count": 20,
     "metadata": {},
     "output_type": "execute_result"
    }
   ],
   "source": [
    "# the below sentences describe how the last sentence is built up\n",
    "# predict the target using the test data - this returns predictions for all the data in array format\n",
    "#model.predict(X_test_scaled)\n",
    "# lets predict for a single value that is '0'\n",
    "#model.predict(X_test_scaled)[0]\n",
    "# since the above prediction returns 10 output prediction values (probability), we need to take the maximum of the prediction\n",
    "#np.argmax(model.predict(X_test_scaled)[0])\n",
    "# lets inout the maximum into the claases array as its index to display the category\n",
    "classes[np.argmax(model.predict(X_test_scaled)[0])]"
   ]
  },
  {
   "cell_type": "code",
   "execution_count": null,
   "id": "c7fd6756-50c3-46a4-91cc-3ec7e2dd70d8",
   "metadata": {},
   "outputs": [],
   "source": []
  }
 ],
 "metadata": {
  "kernelspec": {
   "display_name": "Python 3 (ipykernel)",
   "language": "python",
   "name": "python3"
  },
  "language_info": {
   "codemirror_mode": {
    "name": "ipython",
    "version": 3
   },
   "file_extension": ".py",
   "mimetype": "text/x-python",
   "name": "python",
   "nbconvert_exporter": "python",
   "pygments_lexer": "ipython3",
   "version": "3.8.10"
  }
 },
 "nbformat": 4,
 "nbformat_minor": 5
}
