{
 "cells": [
  {
   "cell_type": "code",
   "execution_count": 1,
   "id": "cf38ea99-0490-4789-a7bd-2dfe0f35aa6b",
   "metadata": {},
   "outputs": [
    {
     "name": "stdout",
     "output_type": "stream",
     "text": [
      "Defaulting to user installation because normal site-packages is not writeable\n",
      "Requirement already satisfied: keras-tuner in /home/m1069009/.local/lib/python3.8/site-packages (1.4.0)\n",
      "Requirement already satisfied: keras-core in /home/m1069009/.local/lib/python3.8/site-packages (from keras-tuner) (0.1.5)\n",
      "Requirement already satisfied: packaging in /home/m1069009/.local/lib/python3.8/site-packages (from keras-tuner) (23.0)\n",
      "Requirement already satisfied: requests in /home/m1069009/.local/lib/python3.8/site-packages (from keras-tuner) (2.28.2)\n",
      "Requirement already satisfied: kt-legacy in /home/m1069009/.local/lib/python3.8/site-packages (from keras-tuner) (1.0.5)\n",
      "Requirement already satisfied: absl-py in /home/m1069009/.local/lib/python3.8/site-packages (from keras-core->keras-tuner) (1.4.0)\n",
      "Requirement already satisfied: numpy in /home/m1069009/.local/lib/python3.8/site-packages (from keras-core->keras-tuner) (1.24.2)\n",
      "Requirement already satisfied: rich in /home/m1069009/.local/lib/python3.8/site-packages (from keras-core->keras-tuner) (13.5.3)\n",
      "Requirement already satisfied: namex in /home/m1069009/.local/lib/python3.8/site-packages (from keras-core->keras-tuner) (0.0.7)\n",
      "Requirement already satisfied: h5py in /home/m1069009/.local/lib/python3.8/site-packages (from keras-core->keras-tuner) (3.9.0)\n",
      "Requirement already satisfied: dm-tree in /home/m1069009/.local/lib/python3.8/site-packages (from keras-core->keras-tuner) (0.1.8)\n",
      "Requirement already satisfied: charset-normalizer<4,>=2 in /home/m1069009/.local/lib/python3.8/site-packages (from requests->keras-tuner) (3.0.1)\n",
      "Requirement already satisfied: idna<4,>=2.5 in /usr/lib/python3/dist-packages (from requests->keras-tuner) (2.8)\n",
      "Requirement already satisfied: urllib3<1.27,>=1.21.1 in /home/m1069009/.local/lib/python3.8/site-packages (from requests->keras-tuner) (1.26.14)\n",
      "Requirement already satisfied: certifi>=2017.4.17 in /usr/lib/python3/dist-packages (from requests->keras-tuner) (2019.11.28)\n",
      "Requirement already satisfied: markdown-it-py>=2.2.0 in /home/m1069009/.local/lib/python3.8/site-packages (from rich->keras-core->keras-tuner) (3.0.0)\n",
      "Requirement already satisfied: pygments<3.0.0,>=2.13.0 in /home/m1069009/.local/lib/python3.8/site-packages (from rich->keras-core->keras-tuner) (2.15.1)\n",
      "Requirement already satisfied: typing-extensions<5.0,>=4.0.0 in /home/m1069009/.local/lib/python3.8/site-packages (from rich->keras-core->keras-tuner) (4.5.0)\n",
      "Requirement already satisfied: mdurl~=0.1 in /home/m1069009/.local/lib/python3.8/site-packages (from markdown-it-py>=2.2.0->rich->keras-core->keras-tuner) (0.1.2)\n",
      "\n",
      "\u001b[1m[\u001b[0m\u001b[34;49mnotice\u001b[0m\u001b[1;39;49m]\u001b[0m\u001b[39;49m A new release of pip is available: \u001b[0m\u001b[31;49m23.2\u001b[0m\u001b[39;49m -> \u001b[0m\u001b[32;49m23.2.1\u001b[0m\n",
      "\u001b[1m[\u001b[0m\u001b[34;49mnotice\u001b[0m\u001b[1;39;49m]\u001b[0m\u001b[39;49m To update, run: \u001b[0m\u001b[32;49mpython3 -m pip install --upgrade pip\u001b[0m\n",
      "Note: you may need to restart the kernel to use updated packages.\n"
     ]
    }
   ],
   "source": [
    "pip install -U keras-tuner"
   ]
  },
  {
   "cell_type": "code",
   "execution_count": 2,
   "id": "44466e48-3b0d-4362-8ccf-acf41ef87036",
   "metadata": {},
   "outputs": [
    {
     "name": "stderr",
     "output_type": "stream",
     "text": [
      "2023-09-25 06:52:17.295668: I tensorflow/tsl/cuda/cudart_stub.cc:28] Could not find cuda drivers on your machine, GPU will not be used.\n",
      "2023-09-25 06:52:18.327320: I tensorflow/tsl/cuda/cudart_stub.cc:28] Could not find cuda drivers on your machine, GPU will not be used.\n",
      "2023-09-25 06:52:18.331008: I tensorflow/core/platform/cpu_feature_guard.cc:182] This TensorFlow binary is optimized to use available CPU instructions in performance-critical operations.\n",
      "To enable the following instructions: AVX2 FMA, in other operations, rebuild TensorFlow with the appropriate compiler flags.\n",
      "2023-09-25 06:52:20.937852: W tensorflow/compiler/tf2tensorrt/utils/py_utils.cc:38] TF-TRT Warning: Could not find TensorRT\n"
     ]
    },
    {
     "name": "stdout",
     "output_type": "stream",
     "text": [
      "2.13.0\n"
     ]
    }
   ],
   "source": [
    "import tensorflow as tf\n",
    "print(tf.__version__)\n"
   ]
  },
  {
   "cell_type": "code",
   "execution_count": 3,
   "id": "5e389785-c34b-49c3-82e9-9afa64824ead",
   "metadata": {},
   "outputs": [],
   "source": [
    "mnist = tf.keras.datasets.mnist"
   ]
  },
  {
   "cell_type": "code",
   "execution_count": 4,
   "id": "5d2614f3-e8ab-46c1-a807-4b5e02774d8f",
   "metadata": {},
   "outputs": [
    {
     "name": "stdout",
     "output_type": "stream",
     "text": [
      "(60000, 28, 28)\n"
     ]
    }
   ],
   "source": [
    "(X_train, y_train), (X_test, y_test) = mnist.load_data()\n",
    "X_train, X_test = X_train/255, X_test/255\n",
    "print(X_train.shape)"
   ]
  },
  {
   "cell_type": "code",
   "execution_count": 5,
   "id": "dd164154-36b8-409e-bb54-4f8bc32c3fac",
   "metadata": {},
   "outputs": [
    {
     "name": "stdout",
     "output_type": "stream",
     "text": [
      "Using TensorFlow backend\n"
     ]
    }
   ],
   "source": [
    "from tensorflow import keras\n",
    "from tensorflow.keras import layers\n",
    "from keras_tuner.tuners import RandomSearch"
   ]
  },
  {
   "cell_type": "code",
   "execution_count": 6,
   "id": "ab60b29d-33e4-4f77-9b1f-937dee6312ba",
   "metadata": {},
   "outputs": [],
   "source": [
    "def build_model(hp):\n",
    "    model = keras.Sequential()\n",
    "    \n",
    "    model.add(layers.Flatten(input_shape = (28,28)))\n",
    "    \n",
    "    model.add(layers.Dense(units = hp.Int('units', \n",
    "                                          min_value = 32,\n",
    "                                          max_value= 512,\n",
    "                                          step = 128),\n",
    "                                          activation = 'relu'))\n",
    "    \n",
    "    model.add(layers.Dense (10, activation = 'softmax'))\n",
    "\n",
    "    model.compile(\n",
    "        optimizer = keras.optimizers.Adam(\n",
    "            hp.Choice('learning_rate',\n",
    "                     values = [.01, .001])),\n",
    "        loss = 'sparse_categorical_crossentropy',\n",
    "        metrics = ['accuracy'])\n",
    "    \n",
    "    return model\n",
    "\n",
    "\n",
    "    "
   ]
  },
  {
   "cell_type": "code",
   "execution_count": 7,
   "id": "df8e82d0-5529-489c-8c32-32e261ac8fb1",
   "metadata": {},
   "outputs": [
    {
     "name": "stdout",
     "output_type": "stream",
     "text": [
      "Reloading Tuner from my_dir/helloworld/tuner0.json\n"
     ]
    }
   ],
   "source": [
    "tuner = RandomSearch(\n",
    "    build_model,\n",
    "    objective = 'val_accuracy',\n",
    "    max_trials = 5,\n",
    "    executions_per_trial = 3,\n",
    "    directory = 'my_dir',\n",
    "    project_name = 'helloworld'\n",
    ")"
   ]
  },
  {
   "cell_type": "code",
   "execution_count": 8,
   "id": "65c26731-07f0-45e4-ae68-a01419de3b79",
   "metadata": {},
   "outputs": [
    {
     "name": "stdout",
     "output_type": "stream",
     "text": [
      "Search space summary\n",
      "Default search space size: 2\n",
      "units (Int)\n",
      "{'default': None, 'conditions': [], 'min_value': 32, 'max_value': 512, 'step': 128, 'sampling': 'linear'}\n",
      "learning_rate (Choice)\n",
      "{'default': 0.01, 'conditions': [], 'values': [0.01, 0.001, 0.0001], 'ordered': True}\n"
     ]
    }
   ],
   "source": [
    "tuner.search_space_summary()"
   ]
  },
  {
   "cell_type": "code",
   "execution_count": 9,
   "id": "d43746ad-967a-43ec-afad-a935c56cb603",
   "metadata": {},
   "outputs": [
    {
     "name": "stdout",
     "output_type": "stream",
     "text": [
      "Trial 5 Complete [00h 01m 34s]\n",
      "val_accuracy: 0.962399979432424\n",
      "\n",
      "Best val_accuracy So Far: 0.962399979432424\n",
      "Total elapsed time: 00h 05m 06s\n"
     ]
    }
   ],
   "source": [
    "tuner.search(X_train, y_train, epochs = 5, validation_data = (X_test, y_test))"
   ]
  },
  {
   "cell_type": "code",
   "execution_count": 10,
   "id": "d1037ba5-e56d-4cae-b92f-ac06d6e45dc0",
   "metadata": {},
   "outputs": [
    {
     "name": "stdout",
     "output_type": "stream",
     "text": [
      "Results summary\n",
      "Results in my_dir/helloworld\n",
      "Showing 10 best trials\n",
      "Objective(name=\"val_accuracy\", direction=\"max\")\n",
      "\n",
      "Trial 4 summary\n",
      "Hyperparameters:\n",
      "units: 288\n",
      "learning_rate: 0.01\n",
      "Score: 0.962399979432424\n",
      "\n",
      "Trial 2 summary\n",
      "Hyperparameters:\n",
      "units: 416\n",
      "learning_rate: 0.01\n",
      "Score: 0.9623333414395651\n",
      "\n",
      "Trial 3 summary\n",
      "Hyperparameters:\n",
      "units: 32\n",
      "learning_rate: 0.0001\n",
      "Score: 0.928166667620341\n",
      "\n",
      "Trial 0 summary\n",
      "Hyperparameters:\n",
      "units: 160\n",
      "learning_rate: 0.01\n",
      "Traceback (most recent call last):\n",
      "  File \"/home/m1069009/.local/lib/python3.8/site-packages/keras_tuner/src/engine/base_tuner.py\", line 268, in _try_run_and_update_trial\n",
      "    self._run_and_update_trial(trial, *fit_args, **fit_kwargs)\n",
      "  File \"/home/m1069009/.local/lib/python3.8/site-packages/keras_tuner/src/engine/base_tuner.py\", line 233, in _run_and_update_trial\n",
      "    results = self.run_trial(trial, *fit_args, **fit_kwargs)\n",
      "  File \"/home/m1069009/.local/lib/python3.8/site-packages/keras_tuner/src/engine/tuner.py\", line 307, in run_trial\n",
      "    obj_value = self._build_and_fit_model(trial, *args, **copied_kwargs)\n",
      "  File \"/home/m1069009/.local/lib/python3.8/site-packages/keras_tuner/src/engine/tuner.py\", line 227, in _build_and_fit_model\n",
      "    results = self.hypermodel.fit(hp, model, *args, **kwargs)\n",
      "  File \"/home/m1069009/.local/lib/python3.8/site-packages/keras_tuner/src/engine/hypermodel.py\", line 144, in fit\n",
      "    return model.fit(*args, **kwargs)\n",
      "  File \"/home/m1069009/.local/lib/python3.8/site-packages/keras/src/utils/traceback_utils.py\", line 70, in error_handler\n",
      "    raise e.with_traceback(filtered_tb) from None\n",
      "  File \"/tmp/__autograph_generated_filee5ebhzs_.py\", line 15, in tf__train_function\n",
      "    retval_ = ag__.converted_call(ag__.ld(step_function), (ag__.ld(self), ag__.ld(iterator)), None, fscope)\n",
      "ValueError: in user code:\n",
      "\n",
      "    File \"/home/m1069009/.local/lib/python3.8/site-packages/keras/src/engine/training.py\", line 1338, in train_function  *\n",
      "        return step_function(self, iterator)\n",
      "    File \"/home/m1069009/.local/lib/python3.8/site-packages/keras/src/engine/training.py\", line 1322, in step_function  **\n",
      "        outputs = model.distribute_strategy.run(run_step, args=(data,))\n",
      "    File \"/home/m1069009/.local/lib/python3.8/site-packages/keras/src/engine/training.py\", line 1303, in run_step  **\n",
      "        outputs = model.train_step(data)\n",
      "    File \"/home/m1069009/.local/lib/python3.8/site-packages/keras/src/engine/training.py\", line 1081, in train_step\n",
      "        loss = self.compute_loss(x, y, y_pred, sample_weight)\n",
      "    File \"/home/m1069009/.local/lib/python3.8/site-packages/keras/src/engine/training.py\", line 1139, in compute_loss\n",
      "        return self.compiled_loss(\n",
      "    File \"/home/m1069009/.local/lib/python3.8/site-packages/keras/src/engine/compile_utils.py\", line 265, in __call__\n",
      "        loss_value = loss_obj(y_t, y_p, sample_weight=sw)\n",
      "    File \"/home/m1069009/.local/lib/python3.8/site-packages/keras/src/losses.py\", line 142, in __call__\n",
      "        losses = call_fn(y_true, y_pred)\n",
      "    File \"/home/m1069009/.local/lib/python3.8/site-packages/keras/src/losses.py\", line 268, in call  **\n",
      "        return ag_fn(y_true, y_pred, **self._fn_kwargs)\n",
      "    File \"/home/m1069009/.local/lib/python3.8/site-packages/keras/src/losses.py\", line 2122, in categorical_crossentropy\n",
      "        return backend.categorical_crossentropy(\n",
      "    File \"/home/m1069009/.local/lib/python3.8/site-packages/keras/src/backend.py\", line 5560, in categorical_crossentropy\n",
      "        target.shape.assert_is_compatible_with(output.shape)\n",
      "\n",
      "    ValueError: Shapes (None, 1) and (None, 10) are incompatible\n",
      "\n",
      "\n",
      "\n",
      "Trial 1 summary\n",
      "Hyperparameters:\n",
      "units: 32\n",
      "learning_rate: 0.001\n",
      "Traceback (most recent call last):\n",
      "  File \"/home/m1069009/.local/lib/python3.8/site-packages/keras_tuner/src/engine/base_tuner.py\", line 268, in _try_run_and_update_trial\n",
      "    self._run_and_update_trial(trial, *fit_args, **fit_kwargs)\n",
      "  File \"/home/m1069009/.local/lib/python3.8/site-packages/keras_tuner/src/engine/base_tuner.py\", line 233, in _run_and_update_trial\n",
      "    results = self.run_trial(trial, *fit_args, **fit_kwargs)\n",
      "  File \"/home/m1069009/.local/lib/python3.8/site-packages/keras_tuner/src/engine/tuner.py\", line 307, in run_trial\n",
      "    obj_value = self._build_and_fit_model(trial, *args, **copied_kwargs)\n",
      "  File \"/home/m1069009/.local/lib/python3.8/site-packages/keras_tuner/src/engine/tuner.py\", line 227, in _build_and_fit_model\n",
      "    results = self.hypermodel.fit(hp, model, *args, **kwargs)\n",
      "  File \"/home/m1069009/.local/lib/python3.8/site-packages/keras_tuner/src/engine/hypermodel.py\", line 144, in fit\n",
      "    return model.fit(*args, **kwargs)\n",
      "  File \"/home/m1069009/.local/lib/python3.8/site-packages/keras/src/utils/traceback_utils.py\", line 70, in error_handler\n",
      "    raise e.with_traceback(filtered_tb) from None\n",
      "  File \"/tmp/__autograph_generated_filee5ebhzs_.py\", line 15, in tf__train_function\n",
      "    retval_ = ag__.converted_call(ag__.ld(step_function), (ag__.ld(self), ag__.ld(iterator)), None, fscope)\n",
      "ValueError: in user code:\n",
      "\n",
      "    File \"/home/m1069009/.local/lib/python3.8/site-packages/keras/src/engine/training.py\", line 1338, in train_function  *\n",
      "        return step_function(self, iterator)\n",
      "    File \"/home/m1069009/.local/lib/python3.8/site-packages/keras/src/engine/training.py\", line 1322, in step_function  **\n",
      "        outputs = model.distribute_strategy.run(run_step, args=(data,))\n",
      "    File \"/home/m1069009/.local/lib/python3.8/site-packages/keras/src/engine/training.py\", line 1303, in run_step  **\n",
      "        outputs = model.train_step(data)\n",
      "    File \"/home/m1069009/.local/lib/python3.8/site-packages/keras/src/engine/training.py\", line 1081, in train_step\n",
      "        loss = self.compute_loss(x, y, y_pred, sample_weight)\n",
      "    File \"/home/m1069009/.local/lib/python3.8/site-packages/keras/src/engine/training.py\", line 1139, in compute_loss\n",
      "        return self.compiled_loss(\n",
      "    File \"/home/m1069009/.local/lib/python3.8/site-packages/keras/src/engine/compile_utils.py\", line 265, in __call__\n",
      "        loss_value = loss_obj(y_t, y_p, sample_weight=sw)\n",
      "    File \"/home/m1069009/.local/lib/python3.8/site-packages/keras/src/losses.py\", line 142, in __call__\n",
      "        losses = call_fn(y_true, y_pred)\n",
      "    File \"/home/m1069009/.local/lib/python3.8/site-packages/keras/src/losses.py\", line 268, in call  **\n",
      "        return ag_fn(y_true, y_pred, **self._fn_kwargs)\n",
      "    File \"/home/m1069009/.local/lib/python3.8/site-packages/keras/src/losses.py\", line 2122, in categorical_crossentropy\n",
      "        return backend.categorical_crossentropy(\n",
      "    File \"/home/m1069009/.local/lib/python3.8/site-packages/keras/src/backend.py\", line 5560, in categorical_crossentropy\n",
      "        target.shape.assert_is_compatible_with(output.shape)\n",
      "\n",
      "    ValueError: Shapes (None, 1) and (None, 10) are incompatible\n",
      "\n",
      "\n"
     ]
    }
   ],
   "source": [
    "tuner.results_summary()"
   ]
  },
  {
   "cell_type": "code",
   "execution_count": 11,
   "id": "517ab5b6-f714-461b-820b-b6823ab9b98d",
   "metadata": {},
   "outputs": [],
   "source": [
    "def build_model2(hp):\n",
    "    model = tf.keras.Sequential()\n",
    "    model.add(layers.Flatten(input_shape = (28, 28)))\n",
    "    for i in range (hp.Int('layers', 2, 6)):\n",
    "        model.add(tf.keras.layers.Dense(\n",
    "            units = hp.Int('units_'+str(i), 50,100, step = 10),\n",
    "            activation = hp.Choice('act_'+str(i), ['relu', 'sigmoid'])))\n",
    "    model.add(tf.keras.layers.Dense(10, activation = 'softmax'))\n",
    "    model.compile('adam', loss = 'sparse_categorical_crossentropy', metrics = ['accuracy'])\n",
    "    return model\n",
    "    \n"
   ]
  },
  {
   "cell_type": "code",
   "execution_count": 12,
   "id": "dd8e87f8-b2b0-43a0-ac62-bba4e87b803b",
   "metadata": {},
   "outputs": [],
   "source": [
    "tuner2 = RandomSearch(\n",
    "    build_model2,\n",
    "    objective = 'val_accuracy',\n",
    "    max_trials = 4,\n",
    "    executions_per_trial = 1,\n",
    "    directory = 'my_dir2',\n",
    "    project_name = 'helloworld2'\n",
    ")"
   ]
  },
  {
   "cell_type": "code",
   "execution_count": 13,
   "id": "2a5d7248-2e5b-43af-be40-4703137cad74",
   "metadata": {},
   "outputs": [
    {
     "name": "stdout",
     "output_type": "stream",
     "text": [
      "Search space summary\n",
      "Default search space size: 5\n",
      "layers (Int)\n",
      "{'default': None, 'conditions': [], 'min_value': 2, 'max_value': 6, 'step': 1, 'sampling': 'linear'}\n",
      "units_0 (Int)\n",
      "{'default': None, 'conditions': [], 'min_value': 50, 'max_value': 100, 'step': 10, 'sampling': 'linear'}\n",
      "act_0 (Choice)\n",
      "{'default': 'relu', 'conditions': [], 'values': ['relu', 'sigmoid'], 'ordered': False}\n",
      "units_1 (Int)\n",
      "{'default': None, 'conditions': [], 'min_value': 50, 'max_value': 100, 'step': 10, 'sampling': 'linear'}\n",
      "act_1 (Choice)\n",
      "{'default': 'relu', 'conditions': [], 'values': ['relu', 'sigmoid'], 'ordered': False}\n"
     ]
    }
   ],
   "source": [
    "tuner2.search_space_summary()"
   ]
  },
  {
   "cell_type": "code",
   "execution_count": 14,
   "id": "25fac8a7-488d-491a-ae4e-786f34614088",
   "metadata": {},
   "outputs": [
    {
     "name": "stdout",
     "output_type": "stream",
     "text": [
      "Trial 4 Complete [00h 00m 17s]\n",
      "val_accuracy: 0.9750000238418579\n",
      "\n",
      "Best val_accuracy So Far: 0.9750000238418579\n",
      "Total elapsed time: 00h 01m 13s\n"
     ]
    }
   ],
   "source": [
    "tuner2.search(X_train, y_train, epochs = 5, validation_data = (X_test, y_test))"
   ]
  },
  {
   "cell_type": "code",
   "execution_count": null,
   "id": "30576dd0-baa7-44fc-beef-2ce04fae66be",
   "metadata": {},
   "outputs": [],
   "source": []
  }
 ],
 "metadata": {
  "kernelspec": {
   "display_name": "Python 3 (ipykernel)",
   "language": "python",
   "name": "python3"
  },
  "language_info": {
   "codemirror_mode": {
    "name": "ipython",
    "version": 3
   },
   "file_extension": ".py",
   "mimetype": "text/x-python",
   "name": "python",
   "nbconvert_exporter": "python",
   "pygments_lexer": "ipython3",
   "version": "3.8.10"
  }
 },
 "nbformat": 4,
 "nbformat_minor": 5
}
